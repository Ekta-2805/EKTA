{
  "nbformat": 4,
  "nbformat_minor": 0,
  "metadata": {
    "colab": {
      "provenance": []
    },
    "kernelspec": {
      "name": "python3",
      "display_name": "Python 3"
    },
    "language_info": {
      "name": "python"
    }
  },
  "cells": [
    {
      "cell_type": "code",
      "execution_count": 1,
      "metadata": {
        "colab": {
          "base_uri": "https://localhost:8080/"
        },
        "id": "XJ7W9TaGIUT4",
        "outputId": "5ff17fee-9eb3-4d30-da9d-6e0ef3fb8db4"
      },
      "outputs": [
        {
          "output_type": "stream",
          "name": "stdout",
          "text": [
            "Collecting bitarray\n",
            "  Downloading bitarray-3.0.0-cp310-cp310-manylinux_2_17_x86_64.manylinux2014_x86_64.whl.metadata (32 kB)\n",
            "Downloading bitarray-3.0.0-cp310-cp310-manylinux_2_17_x86_64.manylinux2014_x86_64.whl (278 kB)\n",
            "\u001b[2K   \u001b[90m━━━━━━━━━━━━━━━━━━━━━━━━━━━━━━━━━━━━━━━━\u001b[0m \u001b[32m278.3/278.3 kB\u001b[0m \u001b[31m15.1 MB/s\u001b[0m eta \u001b[36m0:00:00\u001b[0m\n",
            "\u001b[?25hInstalling collected packages: bitarray\n",
            "Successfully installed bitarray-3.0.0\n"
          ]
        }
      ],
      "source": [
        "pip install bitarray"
      ]
    },
    {
      "cell_type": "code",
      "source": [
        "pip install mmh3"
      ],
      "metadata": {
        "colab": {
          "base_uri": "https://localhost:8080/"
        },
        "id": "ifFN4WzCIuRL",
        "outputId": "6c2fca57-9bff-4f7f-f24b-c72aff415586"
      },
      "execution_count": 2,
      "outputs": [
        {
          "output_type": "stream",
          "name": "stdout",
          "text": [
            "Collecting mmh3\n",
            "  Downloading mmh3-5.0.1-cp310-cp310-manylinux_2_5_x86_64.manylinux1_x86_64.manylinux_2_17_x86_64.manylinux2014_x86_64.whl.metadata (14 kB)\n",
            "Downloading mmh3-5.0.1-cp310-cp310-manylinux_2_5_x86_64.manylinux1_x86_64.manylinux_2_17_x86_64.manylinux2014_x86_64.whl (93 kB)\n",
            "\u001b[?25l   \u001b[90m━━━━━━━━━━━━━━━━━━━━━━━━━━━━━━━━━━━━━━━━\u001b[0m \u001b[32m0.0/93.2 kB\u001b[0m \u001b[31m?\u001b[0m eta \u001b[36m-:--:--\u001b[0m\r\u001b[2K   \u001b[90m━━━━━━━━━━━━━━━━━━━━━━━━━━━━━━━━━━━━━━━━\u001b[0m \u001b[32m93.2/93.2 kB\u001b[0m \u001b[31m4.2 MB/s\u001b[0m eta \u001b[36m0:00:00\u001b[0m\n",
            "\u001b[?25hInstalling collected packages: mmh3\n",
            "Successfully installed mmh3-5.0.1\n"
          ]
        }
      ]
    },
    {
      "cell_type": "code",
      "source": [
        "import math\n",
        "import mmh3\n",
        "from bitarray import bitarray\n",
        "\n",
        "class BloomFilter(object):\n",
        "\n",
        "    def __init__(self, items_count, fp_prob):\n",
        "        self.fp_prob = fp_prob\n",
        "        self.size = self.get_size(items_count, fp_prob)\n",
        "        self.hash_count = self.get_hash_count(self.size, items_count)\n",
        "        self.bit_array = bitarray(self.size)\n",
        "        self.bit_array.setall(0)\n",
        "\n",
        "    def add(self, item):\n",
        "        digests = []\n",
        "        for i in range(self.hash_count):\n",
        "            digest = mmh3.hash(item, i) % self.size\n",
        "            digests.append(digest)\n",
        "\n",
        "        # set the bit True in bit_array\n",
        "        self.bit_array[digests] = True\n",
        "\n",
        "    def check(self, item):\n",
        "        for i in range(self.hash_count):\n",
        "            digest = mmh3.hash(item, i) % self.size\n",
        "            if self.bit_array[digest] == False:\n",
        "                return False\n",
        "        return True\n",
        "\n",
        "    @classmethod\n",
        "    def get_size(self, n, p):\n",
        "        m = -(n * math.log(p)) / (math.log(2)**2)\n",
        "        return int(m)\n",
        "\n",
        "    @classmethod\n",
        "    def get_hash_count(self, m, n):\n",
        "        k = (m/n) * math.log(2)\n",
        "        return int(k)\n"
      ],
      "metadata": {
        "id": "xqYCu9HvJMfH"
      },
      "execution_count": 3,
      "outputs": []
    },
    {
      "cell_type": "code",
      "source": [
        "from random import shuffle\n",
        "\n",
        "n = 20\n",
        "p = 0.05\n",
        "\n",
        "bloomf = BloomFilter(n, p)\n",
        "print(\"Size of bit array:{}\".format(bloomf.size))\n",
        "print(\"False positive Probability:{}\".format(bloomf.fp_prob))\n",
        "print(\"Number of hash functions:{}\".format(bloomf.hash_count))\n",
        "\n",
        "word_present = ['EKTA', 'VPPCOE', 'abundance', 'abundant', 'accessible',\n",
        "                'bloom', 'blossom', 'bolster', 'bonny', 'bonus', 'bonuses',\n",
        "                'coherent', 'cohesive', 'colorful', 'comely', 'comfort',\n",
        "                'gems', 'generosity', 'generous', 'generously', 'genial']\n",
        "\n",
        "word_absent = ['Sion', 'cheater', 'hate', 'war', 'humanity',\n",
        "               'racism', 'hurt', 'nuke', 'gloomy', 'facebook',\n",
        "               'twitter']\n",
        "\n",
        "for item in word_present:\n",
        "    bloomf.add(item)\n",
        "\n",
        "shuffle(word_present)\n",
        "shuffle(word_absent)\n",
        "\n",
        "test_words = word_present[:10] + word_absent\n",
        "shuffle(test_words)\n",
        "\n",
        "for word in test_words:\n",
        "    if bloomf.check(word):\n",
        "        if word in word_absent:\n",
        "            print(\"'{}' is a False Positive!\".format(word))\n",
        "        else:\n",
        "            print(\"'{}' is true positive!\".format(word))\n",
        "    else:\n",
        "        print(\"'{}' is a True Negative!\".format(word))\n"
      ],
      "metadata": {
        "colab": {
          "base_uri": "https://localhost:8080/"
        },
        "id": "jfz-9qpWJjBS",
        "outputId": "bb2f51eb-84a1-486a-9ab3-13cbdd55788f"
      },
      "execution_count": 4,
      "outputs": [
        {
          "output_type": "stream",
          "name": "stdout",
          "text": [
            "Size of bit array:124\n",
            "False positive Probability:0.05\n",
            "Number of hash functions:4\n",
            "'Sion' is a True Negative!\n",
            "'colorful' is true positive!\n",
            "'generously' is true positive!\n",
            "'racism' is a True Negative!\n",
            "'facebook' is a True Negative!\n",
            "'bloom' is true positive!\n",
            "'bonuses' is true positive!\n",
            "'gloomy' is a True Negative!\n",
            "'comfort' is true positive!\n",
            "'hate' is a True Negative!\n",
            "'blossom' is true positive!\n",
            "'cohesive' is true positive!\n",
            "'hurt' is a True Negative!\n",
            "'EKTA' is true positive!\n",
            "'generous' is true positive!\n",
            "'nuke' is a True Negative!\n",
            "'war' is a True Negative!\n",
            "'humanity' is a False Positive!\n",
            "'abundance' is true positive!\n",
            "'cheater' is a True Negative!\n",
            "'twitter' is a True Negative!\n"
          ]
        }
      ]
    }
  ]
}