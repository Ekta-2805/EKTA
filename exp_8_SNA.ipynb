{
  "nbformat": 4,
  "nbformat_minor": 0,
  "metadata": {
    "colab": {
      "provenance": []
    },
    "kernelspec": {
      "name": "ir",
      "display_name": "R"
    },
    "language_info": {
      "name": "R"
    }
  },
  "cells": [
    {
      "cell_type": "code",
      "source": [
        "install.packages(\"igraph\")"
      ],
      "metadata": {
        "id": "eRKU27ufTx8J",
        "colab": {
          "base_uri": "https://localhost:8080/"
        },
        "outputId": "3384cab5-4d8a-47b4-cd96-38785ee0fee8"
      },
      "execution_count": 1,
      "outputs": [
        {
          "output_type": "stream",
          "name": "stderr",
          "text": [
            "Installing package into ‘/usr/local/lib/R/site-library’\n",
            "(as ‘lib’ is unspecified)\n",
            "\n",
            "Warning message in install.packages(\"igraph\"):\n",
            "“installation of package ‘igraph’ had non-zero exit status”\n"
          ]
        }
      ]
    },
    {
      "cell_type": "code",
      "source": [
        "# Install the igraph package using install.packages()\n",
        "install.packages(\"igraph\")\n",
        "\n",
        "# Load the igraph package into your R session\n",
        "library(\"igraph\")"
      ],
      "metadata": {
        "colab": {
          "base_uri": "https://localhost:8080/"
        },
        "id": "FIr38lL7Xi80",
        "outputId": "bdce434d-b60f-4c48-9beb-d0e954598e61"
      },
      "execution_count": 7,
      "outputs": [
        {
          "output_type": "stream",
          "name": "stderr",
          "text": [
            "Installing package into ‘/usr/local/lib/R/site-library’\n",
            "(as ‘lib’ is unspecified)\n",
            "\n",
            "\n",
            "Attaching package: ‘igraph’\n",
            "\n",
            "\n",
            "The following objects are masked from ‘package:stats’:\n",
            "\n",
            "    decompose, spectrum\n",
            "\n",
            "\n",
            "The following object is masked from ‘package:base’:\n",
            "\n",
            "    union\n",
            "\n",
            "\n"
          ]
        }
      ]
    },
    {
      "cell_type": "code",
      "source": [
        "install.packages(\"ggplot2\")\n",
        "library(\"ggplot2\")"
      ],
      "metadata": {
        "colab": {
          "base_uri": "https://localhost:8080/"
        },
        "id": "FvsKCWQTX8N-",
        "outputId": "8e728d17-78b4-40f9-ccbc-7ab8b9d3a4d5"
      },
      "execution_count": 8,
      "outputs": [
        {
          "output_type": "stream",
          "name": "stderr",
          "text": [
            "Installing package into ‘/usr/local/lib/R/site-library’\n",
            "(as ‘lib’ is unspecified)\n",
            "\n"
          ]
        }
      ]
    },
    {
      "cell_type": "code",
      "source": [
        "install.packages(\"ggraph\")\n",
        "library(\"ggraph\")"
      ],
      "metadata": {
        "colab": {
          "base_uri": "https://localhost:8080/"
        },
        "id": "nyn8DwVHYygd",
        "outputId": "739ed196-76c8-45d5-bc29-15f2e840dde8"
      },
      "execution_count": 9,
      "outputs": [
        {
          "output_type": "stream",
          "name": "stderr",
          "text": [
            "Installing package into ‘/usr/local/lib/R/site-library’\n",
            "(as ‘lib’ is unspecified)\n",
            "\n",
            "also installing the dependencies ‘RcppArmadillo’, ‘ggforce’, ‘viridis’, ‘tidygraph’, ‘graphlayouts’\n",
            "\n",
            "\n"
          ]
        }
      ]
    },
    {
      "cell_type": "code",
      "source": [
        "nodes <- c(\"Alice\", \"Ekta\", \"Champaneri\", \"David\", \"Eve\")\n",
        "edges <- data.frame(from = c(\"Alice\", \"Ekta\", \"Champaneri\", \"David\", \"Alice\"),\n",
        "                     to = c(\"Ekta\", \"Champaneri\", \"David\", \"Eve\", \"Eve\")) # Remove the extra comma after \"Alice\""
      ],
      "metadata": {
        "id": "qrKcIKUMdj7u"
      },
      "execution_count": 11,
      "outputs": []
    },
    {
      "cell_type": "code",
      "source": [
        "social_network <- graph_from_data_frame(edges, vertices = nodes, directed = FALSE )"
      ],
      "metadata": {
        "id": "oMqwLkk-e_Ij"
      },
      "execution_count": 12,
      "outputs": []
    },
    {
      "cell_type": "code",
      "source": [
        "plot(social_network,\n",
        "     layout =layout.circle(social_network),\n",
        "     vertex.label.color = \"black\",\n",
        "     vertex.size = 20,\n",
        "     vertex.color = \"Lightblue\",\n",
        "     edge.arrow.size = 0.5,\n",
        "     main = \"Simple Social Network\")"
      ],
      "metadata": {
        "colab": {
          "base_uri": "https://localhost:8080/",
          "height": 437
        },
        "id": "NSVUaZyofYdJ",
        "outputId": "17651c95-45b8-4b33-8e5c-35788ff5d29a"
      },
      "execution_count": 14,
      "outputs": [
        {
          "output_type": "display_data",
          "data": {
            "text/plain": [
              "Plot with title “Simple Social Network”"
            ],
            "image/png": "[encoded data removed]"
          },
          "metadata": {
            "image/png": {
              "width": 420,
              "height": 420
            }
          }
        }
      ]
    },
    {
      "cell_type": "code",
      "source": [
        "cat(\"Number of nodes:\", vcount(social_network),\"\\n\")\n",
        "cat(\"Number of edges:\", ecount(social_network),\"\\n\")\n",
        "cat(\"Degree centrality:\\n\")\n",
        "degree(social_network)\n",
        "cat(\"Betweenness centrality:\\n\")\n",
        "betweenness(social_network) # Corrected the variable name by removing the space\n",
        "cat(\"Closeness centrality:\\n\")\n",
        "closeness(social_network)"
      ],
      "metadata": {
        "colab": {
          "base_uri": "https://localhost:8080/",
          "height": 160
        },
        "id": "A2VJBcfigffn",
        "outputId": "c2849b4e-5d08-40fd-fd9c-bdaae78c7692"
      },
      "execution_count": 16,
      "outputs": [
        {
          "output_type": "stream",
          "name": "stdout",
          "text": [
            "Number of nodes: 5 \n",
            "Number of edges: 5 \n",
            "Degree centrality:\n"
          ]
        },
        {
          "output_type": "display_data",
          "data": {
            "text/html": [
              "<style>\n",
              ".dl-inline {width: auto; margin:0; padding: 0}\n",
              ".dl-inline>dt, .dl-inline>dd {float: none; width: auto; display: inline-block}\n",
              ".dl-inline>dt::after {content: \":\\0020\"; padding-right: .5ex}\n",
              ".dl-inline>dt:not(:first-of-type) {padding-left: .5ex}\n",
              "</style><dl class=dl-inline><dt>Alice</dt><dd>2</dd><dt>Ekta</dt><dd>2</dd><dt>Champaneri</dt><dd>2</dd><dt>David</dt><dd>2</dd><dt>Eve</dt><dd>2</dd></dl>\n"
            ],
            "text/markdown": "Alice\n:   2Ekta\n:   2Champaneri\n:   2David\n:   2Eve\n:   2\n\n",
            "text/latex": "\\begin{description*}\n\\item[Alice] 2\n\\item[Ekta] 2\n\\item[Champaneri] 2\n\\item[David] 2\n\\item[Eve] 2\n\\end{description*}\n",
            "text/plain": [
              "     Alice       Ekta Champaneri      David        Eve \n",
              "         2          2          2          2          2 "
            ]
          },
          "metadata": {}
        },
        {
          "output_type": "stream",
          "name": "stdout",
          "text": [
            "Betweenness centrality:\n"
          ]
        },
        {
          "output_type": "display_data",
          "data": {
            "text/html": [
              "<style>\n",
              ".dl-inline {width: auto; margin:0; padding: 0}\n",
              ".dl-inline>dt, .dl-inline>dd {float: none; width: auto; display: inline-block}\n",
              ".dl-inline>dt::after {content: \":\\0020\"; padding-right: .5ex}\n",
              ".dl-inline>dt:not(:first-of-type) {padding-left: .5ex}\n",
              "</style><dl class=dl-inline><dt>Alice</dt><dd>1</dd><dt>Ekta</dt><dd>1</dd><dt>Champaneri</dt><dd>1</dd><dt>David</dt><dd>1</dd><dt>Eve</dt><dd>1</dd></dl>\n"
            ],
            "text/markdown": "Alice\n:   1Ekta\n:   1Champaneri\n:   1David\n:   1Eve\n:   1\n\n",
            "text/latex": "\\begin{description*}\n\\item[Alice] 1\n\\item[Ekta] 1\n\\item[Champaneri] 1\n\\item[David] 1\n\\item[Eve] 1\n\\end{description*}\n",
            "text/plain": [
              "     Alice       Ekta Champaneri      David        Eve \n",
              "         1          1          1          1          1 "
            ]
          },
          "metadata": {}
        },
        {
          "output_type": "stream",
          "name": "stdout",
          "text": [
            "Closeness centrality:\n"
          ]
        },
        {
          "output_type": "display_data",
          "data": {
            "text/html": [
              "<style>\n",
              ".dl-inline {width: auto; margin:0; padding: 0}\n",
              ".dl-inline>dt, .dl-inline>dd {float: none; width: auto; display: inline-block}\n",
              ".dl-inline>dt::after {content: \":\\0020\"; padding-right: .5ex}\n",
              ".dl-inline>dt:not(:first-of-type) {padding-left: .5ex}\n",
              "</style><dl class=dl-inline><dt>Alice</dt><dd>0.166666666666667</dd><dt>Ekta</dt><dd>0.166666666666667</dd><dt>Champaneri</dt><dd>0.166666666666667</dd><dt>David</dt><dd>0.166666666666667</dd><dt>Eve</dt><dd>0.166666666666667</dd></dl>\n"
            ],
            "text/markdown": "Alice\n:   0.166666666666667Ekta\n:   0.166666666666667Champaneri\n:   0.166666666666667David\n:   0.166666666666667Eve\n:   0.166666666666667\n\n",
            "text/latex": "\\begin{description*}\n\\item[Alice] 0.166666666666667\n\\item[Ekta] 0.166666666666667\n\\item[Champaneri] 0.166666666666667\n\\item[David] 0.166666666666667\n\\item[Eve] 0.166666666666667\n\\end{description*}\n",
            "text/plain": [
              "     Alice       Ekta Champaneri      David        Eve \n",
              " 0.1666667  0.1666667  0.1666667  0.1666667  0.1666667 "
            ]
          },
          "metadata": {}
        }
      ]
    },
    {
      "cell_type": "code",
      "source": [
        "set.seed(123)\n",
        "nodes <- paste(\"Node\", 1:15)\n",
        "edges <- data.frame(\n",
        "  from = sample(nodes, 20, replace = TRUE),\n",
        "  to = sample(nodes, 20, replace =TRUE)\n",
        ")"
      ],
      "metadata": {
        "id": "Ey9BjggRhj0a"
      },
      "execution_count": 17,
      "outputs": []
    },
    {
      "cell_type": "code",
      "source": [
        "social_network <- graph_from_data_frame(edges, vertices = nodes, directed = FALSE)"
      ],
      "metadata": {
        "id": "gaG9xXC0iRG4"
      },
      "execution_count": 18,
      "outputs": []
    },
    {
      "cell_type": "code",
      "source": [
        "communities <- cluster_louvain(social_network)"
      ],
      "metadata": {
        "id": "dWcZ2fHZizL-"
      },
      "execution_count": 19,
      "outputs": []
    },
    {
      "cell_type": "code",
      "source": [
        "membership <- membership(communities)"
      ],
      "metadata": {
        "id": "cUvzAuGMjB7L"
      },
      "execution_count": 20,
      "outputs": []
    },
    {
      "cell_type": "code",
      "source": [
        "print(membership)"
      ],
      "metadata": {
        "colab": {
          "base_uri": "https://localhost:8080/"
        },
        "id": "fSiTNc4vjNea",
        "outputId": "e472155b-737c-4f32-aa1e-baa11c24c0ba"
      },
      "execution_count": 21,
      "outputs": [
        {
          "output_type": "stream",
          "name": "stdout",
          "text": [
            " Node 1  Node 2  Node 3  Node 4  Node 5  Node 6  Node 7  Node 8  Node 9 Node 10 \n",
            "      1       1       2       3       2       3       3       1       2       1 \n",
            "Node 11 Node 12 Node 13 Node 14 Node 15 \n",
            "      4       4       3       3       2 \n"
          ]
        }
      ]
    }
  ]
}